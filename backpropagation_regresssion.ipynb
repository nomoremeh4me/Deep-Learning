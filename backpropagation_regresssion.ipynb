{
  "nbformat": 4,
  "nbformat_minor": 0,
  "metadata": {
    "colab": {
      "provenance": []
    },
    "kernelspec": {
      "name": "python3",
      "display_name": "Python 3"
    },
    "language_info": {
      "name": "python"
    }
  },
  "cells": [
    {
      "cell_type": "code",
      "execution_count": 1,
      "metadata": {
        "id": "LKTY3O2PMHws"
      },
      "outputs": [],
      "source": [
        "import numpy as np\n",
        "import pandas as pd"
      ]
    },
    {
      "cell_type": "code",
      "source": [
        "df = df = pd.DataFrame([[8,8,4],[7,9,5],[6,10,6],[5,12,7]], columns=['cgpa', 'profile_score', 'lpa'])"
      ],
      "metadata": {
        "id": "f6ZVVNIhMQRF"
      },
      "execution_count": 2,
      "outputs": []
    },
    {
      "cell_type": "code",
      "source": [
        "def initialize_parameters(layers_dims):\n",
        "  np.random.seed(3)\n",
        "  parameters = {}\n",
        "  L = len(layers_dims)\n",
        "\n",
        "  for l in range(1,L):\n",
        "    parameters['W'+str(l)] = np.ones((layers_dims[l-1],layers_dims[l])) * 0.1\n",
        "    parameters['b'+str(l)] = np.zeros((layers_dims[l],1))\n",
        "\n",
        "  return parameters"
      ],
      "metadata": {
        "id": "-Rt7ywsPPBJK"
      },
      "execution_count": 25,
      "outputs": []
    },
    {
      "cell_type": "code",
      "source": [
        "def linear_forward(A_prev,W,b):\n",
        "  Z = np.dot(W.T,A_prev)+b\n",
        "  return Z"
      ],
      "metadata": {
        "id": "iL6-LhV3QVU6"
      },
      "execution_count": 26,
      "outputs": []
    },
    {
      "cell_type": "code",
      "source": [
        "def L_layer_forward(X,parameters):\n",
        "  A = X\n",
        "  L = len(parameters)//2\n",
        "\n",
        "  for l in range(1,L+1):\n",
        "    A_prev = A\n",
        "    Wl = parameters['W'+str(l)]\n",
        "    bl = parameters['b'+str(l)]\n",
        "    A = linear_forward(A_prev,Wl,bl)\n",
        "  return A,A_prev"
      ],
      "metadata": {
        "id": "MtzUg1eOQipq"
      },
      "execution_count": 27,
      "outputs": []
    },
    {
      "cell_type": "code",
      "source": [
        "def update_parameters(parameters, y, y_hat, A1, X):\n",
        "\n",
        "    learning_rate = 0.001\n",
        "    error = y - y_hat\n",
        "\n",
        "    # Update for W2, b2\n",
        "    parameters['W2'][0][0] += learning_rate * 2 * error * A1[0][0]\n",
        "    parameters['W2'][1][0] += learning_rate * 2 * error * A1[1][0]\n",
        "    parameters['b2'][0][0] += learning_rate * 2 * error\n",
        "\n",
        "    # Update for W1, b1 (backpropagating error through W2)\n",
        "    parameters['W1'][0][0] += learning_rate * 2 * error * parameters['W2'][0][0] * X[0][0]\n",
        "    parameters['W1'][0][1] += learning_rate * 2 * error * parameters['W2'][0][0] * X[1][0]\n",
        "    parameters['b1'][0][0] += learning_rate * 2 * error * parameters['W2'][0][0]\n",
        "\n",
        "    parameters['W1'][1][0] += learning_rate * 2 * error * parameters['W2'][1][0] * X[0][0]\n",
        "    parameters['W1'][1][1] += learning_rate * 2 * error * parameters['W2'][1][0] * X[1][0]\n",
        "    parameters['b1'][1][0] += learning_rate * 2 * error * parameters['W2'][1][0]\n"
      ],
      "metadata": {
        "id": "KNBT9FBxRDnF"
      },
      "execution_count": 28,
      "outputs": []
    },
    {
      "cell_type": "code",
      "source": [
        "# Choose sample data (first row)\n",
        "X = df[['cgpa', 'profile_score']].values[0].reshape(2, 1)\n",
        "y = df[['lpa']].values[0][0]\n",
        "\n",
        "# Initialize model parameters for 2-2-1 neural network\n",
        "parameters = initialize_parameters([2, 2, 1])\n",
        "\n",
        "# Forward pass\n",
        "y_hat, A1 = L_layer_forward(X, parameters)\n",
        "y_hat = y_hat[0][0]\n",
        "\n",
        "# Update parameters via backpropagation\n",
        "update_parameters(parameters, y, y_hat, A1, X)\n"
      ],
      "metadata": {
        "id": "HT9vnxzmRJ_g"
      },
      "execution_count": 29,
      "outputs": []
    },
    {
      "cell_type": "code",
      "source": [
        "# Train over multiple epochs using SGD\n",
        "parameters = initialize_parameters([2, 2, 1])  # Input: 2 nodes, Hidden: 2 nodes, Output: 1 node\n",
        "epochs = 5\n",
        "\n",
        "for i in range(epochs):\n",
        "    Loss = []\n",
        "    for j in range(df.shape[0]):\n",
        "        X = df[['cgpa', 'profile_score']].values[j].reshape(2, 1)\n",
        "        y = df[['lpa']].values[j][0]\n",
        "\n",
        "        y_hat, A1 = L_layer_forward(X, parameters)\n",
        "        y_hat = y_hat[0][0]\n",
        "\n",
        "        update_parameters(parameters, y, y_hat, A1, X)\n",
        "        Loss.append((y - y_hat) ** 2)\n",
        "\n",
        "    print('Epoch -', i + 1, 'Loss -', np.array(Loss).mean())\n"
      ],
      "metadata": {
        "colab": {
          "base_uri": "https://localhost:8080/"
        },
        "id": "DlSHlV9nRNPZ",
        "outputId": "1f343a4b-60a7-4ac7-aed2-389a2623659d"
      },
      "execution_count": 30,
      "outputs": [
        {
          "output_type": "stream",
          "name": "stdout",
          "text": [
            "Epoch - 1 Loss - 26.28249792398698\n",
            "Epoch - 2 Loss - 19.438253848220803\n",
            "Epoch - 3 Loss - 10.139874435827522\n",
            "Epoch - 4 Loss - 3.385561305106485\n",
            "Epoch - 5 Loss - 1.3198454128484565\n"
          ]
        }
      ]
    },
    {
      "cell_type": "code",
      "source": [
        "print(\"\\nFinal Trained Parameters:\")\n",
        "for key in parameters:\n",
        "    print(f\"{key} =\\n{parameters[key]}\\n\")\n"
      ],
      "metadata": {
        "colab": {
          "base_uri": "https://localhost:8080/"
        },
        "id": "i_v6Ki-4R1sg",
        "outputId": "581ab156-639a-45c1-c320-a65fc4be27f2"
      },
      "execution_count": 31,
      "outputs": [
        {
          "output_type": "stream",
          "name": "stdout",
          "text": [
            "\n",
            "Final Trained Parameters:\n",
            "W1 =\n",
            "[[0.273603   0.3993222 ]\n",
            " [0.28787155 0.42586102]]\n",
            "\n",
            "b1 =\n",
            "[[0.02885522]\n",
            " [0.03133223]]\n",
            "\n",
            "W2 =\n",
            "[[0.42574893]\n",
            " [0.50219328]]\n",
            "\n",
            "b2 =\n",
            "[[0.11841278]]\n",
            "\n"
          ]
        }
      ]
    },
    {
      "cell_type": "code",
      "source": [],
      "metadata": {
        "id": "xrOFO5yhR4OC"
      },
      "execution_count": null,
      "outputs": []
    }
  ]
}